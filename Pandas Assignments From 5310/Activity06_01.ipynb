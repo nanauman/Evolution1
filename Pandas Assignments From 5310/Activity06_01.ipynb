{
  "cells": [
    {
      "cell_type": "markdown",
      "metadata": {
        "id": "view-in-github",
        "colab_type": "text"
      },
      "source": [
        "<a href=\"https://colab.research.google.com/github/nanauman/CIDM5310-Panda-Assignments/blob/main/Activity06_01.ipynb\" target=\"_parent\"><img src=\"https://colab.research.google.com/assets/colab-badge.svg\" alt=\"Open In Colab\"/></a>"
      ]
    },
    {
      "cell_type": "code",
      "execution_count": 2,
      "metadata": {
        "id": "yAtwdFQKUINf"
      },
      "outputs": [],
      "source": [
        "#\n",
        "# required libraries\n",
        "#\n",
        "import pandas as pd"
      ]
    },
    {
      "cell_type": "code",
      "execution_count": 13,
      "metadata": {
        "colab": {
          "base_uri": "https://localhost:8080/"
        },
        "id": "Bs5QiBPzUINh",
        "outputId": "42533a76-fcff-4baf-e774-3ac92279c38e"
      },
      "outputs": [
        {
          "output_type": "stream",
          "name": "stderr",
          "text": [
            "<ipython-input-13-03b677b1606f>:6: FutureWarning: The squeeze argument has been deprecated and will be removed in a future version. Append .squeeze(\"columns\") to the call to squeeze.\n",
            "\n",
            "\n",
            "  pd.read_csv('/Dataset/US_Census_SUB-IP-EST2019-ANNRNK_top_20_2010.csv',\n"
          ]
        },
        {
          "output_type": "execute_result",
          "data": {
            "text/plain": [
              "City\n",
              "New York                8190209\n",
              "Los Angeles             3795512\n",
              "Chicago                 2697477\n",
              "Houston                 2100280\n",
              "Phoenix                 1449038\n",
              "Philadelphia            1528283\n",
              "San Antonio             1332299\n",
              "San Diego               1305906\n",
              "Dallas                  1200350\n",
              "San Jose                 954940\n",
              "Austin                   806164\n",
              "Jacksonville             823114\n",
              "Fort Worth               748441\n",
              "Columbus                 790943\n",
              "Charlotte                738444\n",
              "San Francisco            805505\n",
              "Indianapolis             821579\n",
              "Seattle                  610630\n",
              "Denver                   603359\n",
              "District of Columbia     605226\n",
              "Name: 2010, dtype: int64"
            ]
          },
          "metadata": {},
          "execution_count": 13
        }
      ],
      "source": [
        "#\n",
        "# read in data for top 20 US cities in 2010 as a Series\n",
        "# make the index the first column\n",
        "#\n",
        "populations_2010 = \\\n",
        "pd.read_csv('/Dataset/US_Census_SUB-IP-EST2019-ANNRNK_top_20_2010.csv',\n",
        "            index_col = [0],\n",
        "            squeeze = True)\n",
        "populations_2010"
      ]
    },
    {
      "cell_type": "code",
      "execution_count": 14,
      "metadata": {
        "id": "LcV-hdeDUINi"
      },
      "outputs": [],
      "source": [
        "#\n",
        "# calculate total population for the three largest cities\n",
        "#\n",
        "top_3_2010 = sum(populations_2010[['New York', 'Los Angeles', 'Chicago']])\n",
        "#"
      ]
    },
    {
      "cell_type": "code",
      "execution_count": 15,
      "metadata": {
        "colab": {
          "base_uri": "https://localhost:8080/"
        },
        "id": "Uy9C25quUINj",
        "outputId": "c5f8b90c-68c5-40c1-ead6-cb40c5bd2fdd"
      },
      "outputs": [
        {
          "output_type": "stream",
          "name": "stderr",
          "text": [
            "<ipython-input-15-afbe0e631a6e>:5: FutureWarning: The squeeze argument has been deprecated and will be removed in a future version. Append .squeeze(\"columns\") to the call to squeeze.\n",
            "\n",
            "\n",
            "  pd.read_csv('/Dataset/US_Census_SUB-IP-EST2019-ANNRNK_top_20_2019.csv',\n"
          ]
        },
        {
          "output_type": "execute_result",
          "data": {
            "text/plain": [
              "City\n",
              "New York                8336817\n",
              "Los Angeles             3979576\n",
              "Chicago                 2693976\n",
              "Houston                 2320268\n",
              "Phoenix                 1680992\n",
              "Philadelphia            1584064\n",
              "San Antonio             1547253\n",
              "San Diego               1423851\n",
              "Dallas                  1343573\n",
              "San Jose                1021795\n",
              "Austin                   978908\n",
              "Jacksonville             911507\n",
              "Fort Worth               909585\n",
              "Columbus                 898553\n",
              "Charlotte                885708\n",
              "San Francisco            881549\n",
              "Indianapolis             876384\n",
              "Seattle                  753675\n",
              "Denver                   727211\n",
              "District of Columbia     705749\n",
              "Name: 2019, dtype: int64"
            ]
          },
          "metadata": {},
          "execution_count": 15
        }
      ],
      "source": [
        "#\n",
        "# read in data for 2019\n",
        "#\n",
        "populations_2019 = \\\n",
        "pd.read_csv('/Dataset/US_Census_SUB-IP-EST2019-ANNRNK_top_20_2019.csv',\n",
        "            index_col = [0],\n",
        "            squeeze = True)\n",
        "populations_2019"
      ]
    },
    {
      "cell_type": "code",
      "execution_count": 16,
      "metadata": {
        "id": "m3JuSbQYUINj"
      },
      "outputs": [],
      "source": [
        "#\n",
        "# compute the total for same three cities for 2019\n",
        "#\n",
        "top_3_2019 = sum(populations_2019[['New York', 'Los Angeles', 'Chicago']])"
      ]
    },
    {
      "cell_type": "code",
      "execution_count": 17,
      "metadata": {
        "colab": {
          "base_uri": "https://localhost:8080/"
        },
        "id": "nlo3j2m2UINj",
        "outputId": "b179fe1b-d1d8-451a-d0a5-78e158d82013"
      },
      "outputs": [
        {
          "output_type": "stream",
          "name": "stdout",
          "text": [
            "top 3 changed 2.2 %\n",
            " vs. all changed 8.0 %\n"
          ]
        }
      ],
      "source": [
        "#\n",
        "# compare the percent change in the top 3 to the change for all\n",
        "#\n",
        "top_3_change = 100 * (top_3_2019 - top_3_2010) / top_3_2010\n",
        "all_change = 100 * sum(populations_2019 - populations_2010) / sum(populations_2010)\n",
        "#\n",
        "print('top 3 changed', str(round(top_3_change, 1)), '%\\n',\n",
        "      'vs. all changed', str(round(all_change, 1)), '%')"
      ]
    },
    {
      "cell_type": "code",
      "execution_count": null,
      "metadata": {
        "id": "IUWLI782UINj"
      },
      "outputs": [],
      "source": []
    }
  ],
  "metadata": {
    "kernelspec": {
      "display_name": "Python 3",
      "language": "python",
      "name": "python3"
    },
    "language_info": {
      "codemirror_mode": {
        "name": "ipython",
        "version": 3
      },
      "file_extension": ".py",
      "mimetype": "text/x-python",
      "name": "python",
      "nbconvert_exporter": "python",
      "pygments_lexer": "ipython3",
      "version": "3.8.10"
    },
    "toc": {
      "base_numbering": 1,
      "nav_menu": {},
      "number_sections": true,
      "sideBar": true,
      "skip_h1_title": false,
      "title_cell": "Table of Contents",
      "title_sidebar": "Contents",
      "toc_cell": false,
      "toc_position": {},
      "toc_section_display": true,
      "toc_window_display": true
    },
    "varInspector": {
      "cols": {
        "lenName": 16,
        "lenType": 16,
        "lenVar": 40
      },
      "kernels_config": {
        "python": {
          "delete_cmd_postfix": "",
          "delete_cmd_prefix": "del ",
          "library": "var_list.py",
          "varRefreshCmd": "print(var_dic_list())"
        },
        "r": {
          "delete_cmd_postfix": ") ",
          "delete_cmd_prefix": "rm(",
          "library": "var_list.r",
          "varRefreshCmd": "cat(var_dic_list()) "
        }
      },
      "position": {
        "height": "144px",
        "left": "1150px",
        "right": "20px",
        "top": "12px",
        "width": "350px"
      },
      "types_to_exclude": [
        "module",
        "function",
        "builtin_function_or_method",
        "instance",
        "_Feature"
      ],
      "window_display": true
    },
    "colab": {
      "provenance": [],
      "include_colab_link": true
    }
  },
  "nbformat": 4,
  "nbformat_minor": 0
}